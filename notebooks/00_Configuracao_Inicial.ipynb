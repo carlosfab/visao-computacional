{
 "cells": [
  {
   "cell_type": "markdown",
   "metadata": {},
   "source": [
    "## Configuração inicial\n",
    "\n",
    "<div class=\"alert\" style=\"background-color:#ff103f; color: #ffffff\"><strong>Nota:</strong> \n",
    "    Antes de executar este notebook, siga as <strong><a href=\"setup.ipynb\" style=\"color: #d1e8ff\">instruções de configuração local</a></strong>.\n",
    "</div>\n",
    "\n",
    "Após ter seguido as intruções de configuração inicial, rode este notebook para finalizar a configuração co ambiente."
   ]
  },
  {
   "cell_type": "code",
   "execution_count": null,
   "metadata": {},
   "outputs": [],
   "source": [
    "%load_ext autoreload\n",
    "%autoreload 2\n",
    "\n",
    "import sys\n",
    "import logging\n",
    "import ipytest\n",
    "from pathlib import Path"
   ]
  },
  {
   "cell_type": "code",
   "execution_count": null,
   "metadata": {},
   "outputs": [],
   "source": [
    "from src.paths import DATA_DIR\n",
    "\n",
    "# --- Constants ---\n",
    "DATA_DIR.mkdir(parents=True, exist_ok=True)"
   ]
  },
  {
   "cell_type": "code",
   "execution_count": null,
   "metadata": {},
   "outputs": [],
   "source": []
  }
 ],
 "metadata": {
  "kernelspec": {
   "display_name": "python3",
   "language": "python",
   "name": "python3"
  }
 },
 "nbformat": 4,
 "nbformat_minor": 2
}
