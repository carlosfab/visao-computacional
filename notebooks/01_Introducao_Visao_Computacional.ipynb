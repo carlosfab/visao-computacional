{
 "cells": [
  {
   "cell_type": "markdown",
   "metadata": {},
   "source": [
    "# Módulo 01 - Introdução à Visão Computacional\n",
    "\n",
    "Este notebook inaugura a *Especialização em Visão Computacional*, introduzindo os conceitos fundamentais de Visão Computacional, a biblioteca OpenCV e técnicas de manipulação de imagens. Ao longo deste módulo, exploraremos os fundamentos do processamento de imagens utilizando a biblioteca OpenCV. Começaremos importando as bibliotecas necessárias, incluindo OpenCV (`cv2`).\n",
    "\n",
    "\n",
    "Antes de executar este *notebook*, certifique-se que você seguiu as recomendações iniciais e executou o [Jupyter Botebook inicial](./00_Configuracao_Inicial.ipynb).\n",
    "\n",
    "![Imagens](img/m01.png)\n",
    "\n",
    "Este notebook faz parte do programa da [Especialização em Visão Computacional](https://escola.sigmoidal.ai/especializacao-em-visao-computacional).\n",
    "\n",
    "\n",
    "## Conhecendo a biblioteca OpenCV\n",
    "\n",
    "OpenCV é uma biblioteca de programação em C++ com capacidades em tempo real. Como é escrita em C/C++ otimizado, a biblioteca pode se beneficiar do processamento multi-core. Uma introdução teórica sobre a biblioteca OpenCV é realizada na próxima seção.\n",
    "\n",
    "A biblioteca OpenCV é popular por várias razões, incluindo:\n",
    "\n",
    "- É uma biblioteca de visão computacional de código aberto\n",
    "- É uma biblioteca específica para processamento de imagens\n",
    "- Possui mais de 2.500 algoritmos otimizados, incluindo algoritmos de visão computacional de última geração\n",
    "- Suporte para aprendizado de máquina e aprendizado profundo\n",
    "- Possui interfaces para C++, Python, Java e MATLAB\n",
    "- A biblioteca suporta Windows, Linux, Android e macOS\n",
    "\n",
    "### Módulos do OpenCV\n",
    "\n",
    "O OpenCV é dividido em vários módulos. Cada módulo pode ser entendido, em geral, como sendo dedicado a um grupo de problemas de visão computacional. Os principais módulos são brevemente descritos aqui.\n",
    "\n",
    "<center>\n",
    "    <img src=\"img/modulos-opencv.png\">\n",
    "</center>\n",
    "\n",
    "- `core`: *Funcionalidade principal*. Este módulo define estruturas de dados básicas e também funções básicas usadas por todos os outros módulos na biblioteca.\n",
    "- `imgproc`: *Processamento de imagens*. Um módulo de processamento de imagens que inclui filtragem de imagens, transformações geométricas de imagens, conversão de espaço de cores e histogramas.\n",
    "- `imgcodecs`: *Codecs de imagem*. Leitura e escrita de arquivos de imagem.\n",
    "- `videoio`: *E/S de vídeo*. Uma interface para captura de vídeo e codecs de vídeo.\n",
    "- `highgui`: *GUI de alto nível*. Uma interface para capacidades de interface do usuário. Ele fornece uma interface para fazer facilmente o seguinte:\n",
    "    - Criar e manipular janelas que podem exibir/mostrar imagens\n",
    "    - Adicionar barras de rastreamento às janelas, comandos de teclado e manipular eventos do mouse\n",
    "- `video`: *Análise de vídeo*. Um módulo de análise de vídeo incluindo algoritmos de subtração de fundo, estimativa de movimento e rastreamento de objetos.\n",
    "- `calib3d`: *Calibração de câmera e reconstrução 3D*. Este módulo cobre algoritmos básicos de geometria de múltiplas visões, algoritmos de correspondência estéreo, estimativa de pose de objetos, calibração de uma única câmera e estéreo, e também reconstrução 3D.\n",
    "- `features2d`: *Framework de recursos 2D*. Este módulo inclui detectores de recursos, descritores e correspondentes de descritores.\n",
    "- `objdetect`: *Detecção de objetos*. Detecção de objetos e instâncias de classes pré-definidas (por exemplo, rostos, olhos, pessoas e carros).\n",
    "- `dnn`: *Módulo de rede neural profunda (DNN)*. Este módulo contém o seguinte:\n",
    "    - API para criação de novas camadas\n",
    "    - Conjunto de camadas úteis integradas\n",
    "    - API para construir e modificar redes neurais a partir de camadas\n",
    "    - Funcionalidade para carregar modelos de redes serializadas de diferentes frameworks de aprendizado profundo\n",
    "- `ml`: *Aprendizado de máquina*. A Biblioteca de Aprendizado de Máquina (MLL) é um conjunto de classes e métodos que podem ser usados para fins de classificação, regressão e agrupamento.\n",
    "- `flann`: *Agrupamento e pesquisa em espaços multidimensionais*. Fast Library for Approximate Nearest Neighbors (FLANN) é uma coleção de algoritmos que são altamente adequados para pesquisas rápidas de vizinhos mais próximos.\n",
    "- `photo`: *Fotografia computacional*. Este módulo implementa um pipeline de junção que realiza a junção automática de imagens panorâmicas.\n",
    "- `stitching`: *Junção de imagens*. Este módulo implementa um pipeline de junção que realiza a junção automática de imagens panorâmicas.\n",
    "- `shape`: *Distância e correspondência de formas*. Este módulo pode ser usado para correspondência de formas, recuperação ou comparação.\n",
    "- `superres`: *Super-resolução*. Este módulo contém um conjunto de classes e métodos que podem ser usados para aprimoramento de resolução.\n",
    "- `videostab`: *Estabilização de vídeo*. Este módulo contém um conjunto de classes e métodos para estabilização de vídeo.\n",
    "- `viz`: *Visualizador 3D*. Este módulo é usado para exibir widgets que fornecem vários métodos para interagir com cenas e widgets."
   ]
  },
  {
   "cell_type": "markdown",
   "metadata": {},
   "source": [
    "# Manipulando arquivos e imagens com OpenCV</font>\n",
    "\n",
    "Primeiramente, abordaremos como carregar imagens do disco usando a função `imread` do OpenCV, seguida por uma explanação detalhada sobre os parâmetros e retornos desta função. Vamos examinar a estrutura da imagem carregada em detalhe, com foco na intensidade dos pixels e nas propriedades da imagem, como tipo de pixel e dimensões.\n",
    "\n",
    "Depois disso, discutiremos as várias formas de visualizar as imagens carregadas. Veremos por que o método `plt.imshow()` do `matplotlib` é mais adequado para o ambiente do notebook Jupyter, em comparação com a função `cv2.imshow()` do OpenCV (mais adequado quando formos rodar *scripts*, por exemplo). Além disso, vamos destacar algumas particularidades sobre a representação de imagens em tons de cinza.\n",
    "\n",
    "Por fim, iniciaremos a manipulação dos pixels da imagem, o que representa um passo crucial no processamento de imagens. Ao longo deste notebook, usaremos exemplos práticos para ilustrar esses conceitos, oferecendo uma compreensão abrangente e prática sobre como lidar com imagens utilizando OpenCV e Python.\n"
   ]
  },
  {
   "cell_type": "code",
   "execution_count": 1,
   "metadata": {},
   "outputs": [],
   "source": [
    "# Importar os pacotes necessários\n",
    "import cv2\n",
    "import numpy as np\n",
    "from typing import Optional\n",
    "import matplotlib.pyplot as plt\n",
    "\n",
    "%matplotlib inline\n"
   ]
  },
  {
   "cell_type": "markdown",
   "metadata": {},
   "source": [
    "### Carregando Imagens com OpenCV\n",
    "\n",
    "Vamos começar lendo uma imagem do disco usando a função `imread` do OpenCV. A sintaxe para isso em Python e C++ é a seguinte:\n",
    "\n",
    "Esses comandos abaixo carregam a imagem especificada do disco para a memória. No caso do Python, a imagem é armazenada como um objeto NumPy multidimensional, enquanto no C++ ela é armazenada como um objeto `Mat`.\n",
    "\n",
    "#### <font style=\"color:rgb(0, 0, 128)\">Sintaxe da Função</font>\n",
    "\n",
    "``` python\n",
    "cv2.imread(\n",
    "    filename: str,\n",
    "    flags: Optional[int] = None\n",
    ") -> np.ndarray\n",
    "```\n",
    "\n",
    "**Parâmetros**<br>\n",
    "`filename` é o caminho do arquivo do arquivo que será carregado (relativo ou absoluto). Este argumento é **obrigatório**.<br>\n",
    "`flags` são sinalizadores (*flag*) opcionais que pode assumir valores de `cv2.ImreadModes`. Veja alguns exemplos comuns de `flags`:\n",
    "\n",
    "\n",
    "* **cv2.IMREAD_GRAYSCALE** (ou 0): Carrega a imagem em modo de escala de cinza.\n",
    "* **cv2.IMREAD_COLOR** (ou 1): Carrega uma imagem colorida. Qualquer transparência da imagem será ignorada. Este é o sinalizador padrão.\n",
    "* **cv2.IMREAD_UNCHANGED** (ou -1): Carrega a imagem como tal, incluindo o canal alfa.\n",
    "\n",
    "A função `imread` retorna uma matriz multi-dimensional que contém os valores de intensidade de pixel da imagem. Para obter uma compreensão completa da função `imread` e suas diversas opções, você pode consultar a [documentação oficial do OpenCV](https://docs.opencv.org/4.7.0/d4/da8/group__imgcodecs.html#ga288b8b3da0892bd651fce07b3bbd3a56).\n",
    "\n"
   ]
  },
  {
   "cell_type": "code",
   "execution_count": 8,
   "metadata": {},
   "outputs": [
    {
     "name": "stdout",
     "output_type": "stream",
     "text": [
      "[[255 255 255 255 255 255 255 255 255 255 255 255 255   0   0]\n",
      " [255 255 255 255 255 255 255 255 255 255 255 255 255   0   0]\n",
      " [255 255 255 255 255 255 255 255 255 255 255 255 255   0   0]\n",
      " [255 255 255   0   0   0   0   0   0   0   0   0   0   0   0]\n",
      " [255 255 255   0   0   0   0   0   0   0   0   0   0   0   0]\n",
      " [255 255 255   0   0   0   0   0   0   0   0   0   0   0   0]\n",
      " [255 255 255   0   0   0   0   0   0   0   0   0   0   0   0]\n",
      " [255 255 255   0   0   0   0   0   0   0   0   0   0   0   0]\n",
      " [255 255 255   0   0   0   0   0   0   0   0   0   0   0   0]\n",
      " [255 255 255   0   0   0   0   0   0   0   0   0   0   0   0]\n",
      " [255 255 255   0   0   0   0   0   0   0   0   0   0   0   0]\n",
      " [255 255 255   0   0   0   0   0   0   0   0   0   0   0   0]\n",
      " [255 255 255 255 255 255 255 255 255 255 255 255 255   0   0]\n",
      " [255 255 255 255 255 255 255 255 255 255 255 255 255   0   0]\n",
      " [255 255 255 255 255 255 255 255 255 255 255 255 255   0   0]]\n"
     ]
    }
   ],
   "source": [
    "letra_c = cv2.imread(\"data/c_cinza.png\", cv2.IMREAD_GRAYSCALE)\n",
    "print(letra_c)"
   ]
  },
  {
   "cell_type": "markdown",
   "metadata": {},
   "source": [
    "Os valores acima dizem respeito à intensidade de cada *pixel*. No caso, 0 representa os pontos pretos da imagem e 255 os brancos."
   ]
  },
  {
   "cell_type": "code",
   "execution_count": 16,
   "metadata": {},
   "outputs": [
    {
     "data": {
      "text/plain": [
       "numpy.ndarray"
      ]
     },
     "execution_count": 16,
     "metadata": {},
     "output_type": "execute_result"
    }
   ],
   "source": [
    "type(letra_c)"
   ]
  },
  {
   "cell_type": "markdown",
   "metadata": {},
   "source": [
    "**Propriedades Dimensionais de Imagens**\n",
    "\n",
    "Em OpenCV, as dimensões de uma imagem são representadas como uma tupla na forma $ \\text{largura} \\times \\text{altura} $ ou, equivalentemente, $ \\text{\\# de colunas} \\times \\text{\\# de linhas} $. Por outro lado, no NumPy, o método `shape` retorna as dimensões da imagem como uma tupla na ordem inversa, isto é, $ \\text{altura} \\times \\text{largura} $.\n",
    "\n",
    "Isso evidencia a necessidade de atenção ao manipular as dimensões das imagens, dada a diferença nas convenções adotadas por cada biblioteca.\n"
   ]
  },
  {
   "cell_type": "code",
   "execution_count": 3,
   "metadata": {},
   "outputs": [
    {
     "name": "stdout",
     "output_type": "stream",
     "text": [
      "Tipo (pixels): uint8\n",
      "\n",
      "Tipo (objeto): <class 'numpy.dtypes.UInt8DType'>\n",
      "\n",
      "Dimensões: (15, 15)\n",
      "\n"
     ]
    }
   ],
   "source": [
    "print(\"Tipo (pixels): {}\\n\".format(letra_c.dtype))\n",
    "print(\"Tipo (objeto): {}\\n\".format(type(letra_c.dtype)))\n",
    "print(\"Dimensões: {}\\n\".format(letra_c.shape))"
   ]
  },
  {
   "cell_type": "markdown",
   "metadata": {},
   "source": [
    "### Visualizando Imagens\n",
    "\n",
    "Quando estamos lidando com tarefas de processamento e visualização de imagens, existem várias opções para exibir imagens. A escolha do método de visualização frequentemente depende do ambiente em que estamos trabalhando - seja um notebook Jupyter ou um script Python executado em uma IDE.\n",
    "\n",
    "A função `cv2.imshow()` do OpenCV, embora útil, pode causar problemas em um notebook Jupyter, pois pode travar o kernel e interromper a execução do notebook.\n",
    "\n",
    "Por isso, para o ambiente de um notebook Jupyter, é mais adequado usar o método `plt.imshow()` do `matplotlib`. Este método lê e representa graficamente um array NumPy, tornando-o uma opção conveniente para visualização de imagens.\n",
    "\n",
    "Se você estiver usando o Google Colab, há ainda outra opção: você pode usar `from google.colab.patches import cv2_imshow` para exibir imagens com a função `cv2_imshow()`"
   ]
  },
  {
   "cell_type": "code",
   "execution_count": 4,
   "metadata": {},
   "outputs": [
    {
     "data": {
      "image/png": "[encoded data removed]",
      "text/plain": [
       "<Figure size 640x480 with 1 Axes>"
      ]
     },
     "metadata": {},
     "output_type": "display_data"
    }
   ],
   "source": [
    "# Exibir a imagem com matplotlib\n",
    "plt.imshow(letra_c);"
   ]
  },
  {
   "cell_type": "markdown",
   "metadata": {},
   "source": [
    "**Importante:** Uma das particularidades que precisamos lidar ao trabalhar com imagens é a questão da escala de cores. No nosso caso, carregamos a imagem em tons de cinza, porém é crucial entender que a biblioteca matplotlib, responsável por exibir as imagens em nosso notebook, não assume automaticamente que deva utilizar um mapa de cores em tons de cinza para a representação da imagem.\n",
    "\n",
    "Por padrão, o matplotlib usa uma escala de cores chamada `viridi`, que é uma escala de cores de percepção uniforme. Portanto, mesmo que carreguemos uma imagem em tons de cinza, a menos que especifiquemos explicitamente usando `cmap='gray'`.\n",
    "\n",
    "Para resolver este problema, precisamos informar ao matplotlib para usar o mapa de cores em tons de cinza ao exibir nossa imagem. Isso pode ser feito com o seguinte comando: `matplotlib.rc('image', cmap='gray')`.\n",
    "\n",
    "Este comando deve ser incluído no início do notebook. Ao fazer isso, estamos configurando o matplotlib para usar o mapa de cores em tons de cinza por padrão ao exibir imagens. Dessa forma, qualquer imagem carregada posteriormente em tons de cinza será exibida corretamente, sem a necessidade de especificar o mapa de cores a cada vez. Isso facilita o processo de visualização e assegura que as cores da imagem sejam representadas corretamente."
   ]
  },
  {
   "cell_type": "code",
   "execution_count": 5,
   "metadata": {},
   "outputs": [
    {
     "data": {
      "image/png": "[encoded data removed]",
      "text/plain": [
       "<Figure size 640x480 with 1 Axes>"
      ]
     },
     "metadata": {},
     "output_type": "display_data"
    }
   ],
   "source": [
    "plt.imshow(letra_c, cmap='gray');"
   ]
  },
  {
   "cell_type": "markdown",
   "metadata": {},
   "source": [
    "### Manipulando Pixels\n",
    "\n",
    "Agora que já vimos como carregar e visualizar uma imagem, vamos avançar para a manipulação dos pixels. Como mencionado anteriormente, uma imagem é composta por uma matriz de pixels, cada um com seu valor de intensidade.\n",
    "\n",
    "Vamos explorar como acessar, modificar e manipular esses pixels para realizar alterações desejadas na imagem. Também abordaremos a importante ideia de Região de Interesse (ROI), que representa uma sub-região da imagem que queremos processar.\n",
    "\n",
    "Podemos acessar um pixel específico de uma imagem simplesmente indexando a matriz da imagem. Por exemplo, `img[0, 0]` nos daria o pixel no canto superior esquerdo. Se a imagem for colorida, obteríamos um array de três elementos representando os canais vermelho, verde e azul, respectivamente. Em uma imagem em tons de cinza, obteríamos um único valor representando a intensidade do pixel.\n",
    "\n",
    "Da mesma forma, podemos modificar um pixel atribuindo um novo valor à sua posição na matriz da imagem."
   ]
  },
  {
   "cell_type": "code",
   "execution_count": 9,
   "metadata": {},
   "outputs": [
    {
     "name": "stdout",
     "output_type": "stream",
     "text": [
      "Valor original do pixel na 1ª linha e 3ª coluna: 255\n",
      "Valor do pixel na 1ª linha e 3ª coluna após modificação: 0\n"
     ]
    }
   ],
   "source": [
    "# Acessando o valor do pixel localizado na primeira linha e terceira coluna\n",
    "valor_pixel_original = letra_c[0, 2]\n",
    "print(\"Valor original do pixel na 1ª linha e 3ª coluna:\", valor_pixel_original)\n",
    "\n",
    "# Modificando o valor do pixel na primeira linha e terceira coluna para 0\n",
    "letra_c[0, 2] = 0\n",
    "\n",
    "# Acessando e exibindo o novo valor do pixel modificado\n",
    "valor_pixel_modificado = letra_c[0, 2]\n",
    "print(\"Valor do pixel na 1ª linha e 3ª coluna após modificação:\", valor_pixel_modificado)"
   ]
  },
  {
   "cell_type": "code",
   "execution_count": 10,
   "metadata": {},
   "outputs": [
    {
     "data": {
      "image/png": "[encoded data removed]",
      "text/plain": [
       "<Figure size 640x480 with 1 Axes>"
      ]
     },
     "metadata": {},
     "output_type": "display_data"
    }
   ],
   "source": [
    "plt.imshow(letra_c, cmap='gray');"
   ]
  },
  {
   "cell_type": "markdown",
   "metadata": {},
   "source": [
    "Em muitos casos, talvez queiramos trabalhar com uma sub-região da imagem, também conhecida como Região de Interesse (ROI). Podemos facilmente definir uma ROI em uma imagem utilizando a ` de matrizes, da mesma forma que faríamos com uma matriz numpy padrão."
   ]
  },
  {
   "cell_type": "code",
   "execution_count": 11,
   "metadata": {},
   "outputs": [
    {
     "name": "stdout",
     "output_type": "stream",
     "text": [
      "[[255 255   0 255 255]\n",
      " [255 255 255 255 255]\n",
      " [255 255 255 255 255]\n",
      " [255 255 255   0   0]\n",
      " [255 255 255   0   0]\n",
      " [255 255 255   0   0]\n",
      " [255 255 255   0   0]\n",
      " [255 255 255   0   0]\n",
      " [255 255 255   0   0]\n",
      " [255 255 255   0   0]]\n"
     ]
    }
   ],
   "source": [
    "# Definindo uma ROI\n",
    "roi = letra_c[0:10, 0:5]\n",
    "\n",
    "# Exibindo a ROI\n",
    "print(roi)"
   ]
  },
  {
   "cell_type": "code",
   "execution_count": 12,
   "metadata": {},
   "outputs": [
    {
     "data": {
      "text/plain": [
       "Text(0.5, 1.0, 'ROI')"
      ]
     },
     "execution_count": 12,
     "metadata": {},
     "output_type": "execute_result"
    },
    {
     "data": {
      "image/png": "[encoded data removed]",
      "text/plain": [
       "<Figure size 500x500 with 2 Axes>"
      ]
     },
     "metadata": {},
     "output_type": "display_data"
    }
   ],
   "source": [
    "# Criando uma nova figura para exibir as imagens\n",
    "plt.figure(figsize=[5, 5])\n",
    "\n",
    "# Exibindo a imagem original\n",
    "plt.subplot(121)\n",
    "plt.imshow(letra_c, cmap='gray')\n",
    "plt.title('Imagem Original')\n",
    "\n",
    "# Exibindo a imagem com contraste ajustado\n",
    "plt.subplot(122)\n",
    "plt.imshow(roi, cmap='gray')\n",
    "plt.title('ROI')"
   ]
  },
  {
   "cell_type": "markdown",
   "metadata": {},
   "source": [
    "Quando exibimos uma ROI, talvez queiramos que ela seja exibida na mesma escala da imagem original. No entanto, o matplotlib não mantém automaticamente a escala original ao exibir a ROI. Para corrigir isso, podemos calcular a escala da ROI em relação à imagem original e usar essa escala para definir o tamanho da figura quando exibimos a ROI."
   ]
  },
  {
   "cell_type": "code",
   "execution_count": 13,
   "metadata": {},
   "outputs": [
    {
     "data": {
      "text/plain": [
       "Text(0.5, 1.0, 'ROI')"
      ]
     },
     "execution_count": 13,
     "metadata": {},
     "output_type": "execute_result"
    },
    {
     "data": {
      "image/png": "[encoded data removed]",
      "text/plain": [
       "<Figure size 500x500 with 1 Axes>"
      ]
     },
     "metadata": {},
     "output_type": "display_data"
    },
    {
     "data": {
      "image/png": "[encoded data removed]",
      "text/plain": [
       "<Figure size 166.667x166.667 with 1 Axes>"
      ]
     },
     "metadata": {},
     "output_type": "display_data"
    }
   ],
   "source": [
    "# Obter as dimensões da imagem original e do ROI\n",
    "h_original, w_original = letra_c.shape[:2]\n",
    "h_roi, w_roi = roi.shape[:2]\n",
    "\n",
    "# Definir o tamanho da figura com base nas dimensões das imagens\n",
    "figsize_original = (5, 5) # por exemplo\n",
    "scale = min(h_roi / h_original, w_roi / w_original) # escala do ROI em relação à imagem original\n",
    "figsize_roi = (figsize_original[0] * scale, figsize_original[1] * scale)\n",
    "\n",
    "# Criar as figuras\n",
    "plt.figure(figsize=figsize_original)\n",
    "\n",
    "# Exibir a imagem original\n",
    "plt.subplot(211)\n",
    "plt.imshow(letra_c, cmap='gray')\n",
    "plt.title('Imagem Original')\n",
    "\n",
    "# Criar uma nova figura para o ROI com o tamanho ajustado\n",
    "plt.figure(figsize=figsize_roi)\n",
    "\n",
    "# Exibir o ROI\n",
    "plt.imshow(roi, cmap='gray')\n",
    "plt.title('ROI')"
   ]
  },
  {
   "cell_type": "markdown",
   "metadata": {},
   "source": [
    "### Salvando Imagens com OpenCV\n",
    "\n",
    "Depois de manipular uma imagem usando o OpenCV, geralmente queremos salvar o resultado. Isso pode ser feito usando a função `imwrite` do OpenCV. A sintaxe para essa função em Python e C++ é a seguinte:\n",
    "\n",
    "Esses comandos abaixo salvam a imagem especificada da memória para o disco. No caso do Python, a imagem é um objeto NumPy multidimensional, enquanto no C++ ela é um objeto `Mat`.\n",
    "\n",
    "#### <font style=\"color:rgb(0, 0, 128)\">Sintaxe da Função</font>\n",
    "\n",
    "``` python\n",
    "cv2.imwrite(\n",
    "    filename: str,\n",
    "    img: np.ndarray,\n",
    "    params: Optional[List[int]] = None\n",
    ") -> bool\n",
    "```\n",
    "\n",
    "**Parâmetros**<br>\n",
    "`filename` é o nome do arquivo para o qual a imagem será salva. Este argumento é **obrigatório**.<br>\n",
    "`img` é a imagem a ser salva. Este argumento é **obrigatório**.<br>\n",
    "`params` é uma sequência opcional de pares (propriedade/valor) para especificar formato de compressão. Para o formato de imagem JPEG, a sequência pode ser por exemplo: `[cv2.IMWRITE_JPEG_QUALITY, 90]` para especificar a qualidade do JPEG (o padrão é 95).\n",
    "\n",
    "A função `imwrite` retorna um booleano. Se o arquivo for salvo com sucesso, a função retorna `True`. Se ocorrer um erro ao salvar o arquivo, a função retorna `False`.\n",
    "\n",
    "Para obter uma compreensão completa da função `imwrite` e suas diversas opções, você pode consultar a [documentação oficial do OpenCV](https://docs.opencv.org/4.7.0/d4/da8/group__imgcodecs.html#ga292d81be8d76901bff7988d18d2b42ac).\n"
   ]
  },
  {
   "cell_type": "code",
   "execution_count": 14,
   "metadata": {},
   "outputs": [
    {
     "data": {
      "text/plain": [
       "True"
      ]
     },
     "execution_count": 14,
     "metadata": {},
     "output_type": "execute_result"
    }
   ],
   "source": [
    "# salva o arquivo na pasta data\n",
    "cv2.imwrite('data/c_cinza_roi.png', roi)"
   ]
  },
  {
   "cell_type": "markdown",
   "metadata": {},
   "source": [
    "Vamos agora carregar essa nova imagem manipulada e ver como o resultado foi armazenado no arquivo `c_cinza_roi.png`"
   ]
  },
  {
   "cell_type": "code",
   "execution_count": 15,
   "metadata": {},
   "outputs": [
    {
     "data": {
      "image/png": "[encoded data removed]",
      "text/plain": [
       "<Figure size 640x480 with 1 Axes>"
      ]
     },
     "metadata": {},
     "output_type": "display_data"
    }
   ],
   "source": [
    "img_manipulada = cv2.imread('data/c_cinza_roi.png', 0)\n",
    "plt.imshow(img_manipulada, cmap='gray');"
   ]
  },
  {
   "cell_type": "markdown",
   "metadata": {},
   "source": []
  }
 ],
 "metadata": {
  "kernelspec": {
   "display_name": ".venv",
   "language": "python",
   "name": "python3"
  },
  "language_info": {
   "codemirror_mode": {
    "name": "ipython",
    "version": 3
   },
   "file_extension": ".py",
   "mimetype": "text/x-python",
   "name": "python",
   "nbconvert_exporter": "python",
   "pygments_lexer": "ipython3",
   "version": "3.11.3"
  }
 },
 "nbformat": 4,
 "nbformat_minor": 2
}
