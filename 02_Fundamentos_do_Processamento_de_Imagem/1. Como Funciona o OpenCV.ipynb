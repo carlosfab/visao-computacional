{
 "cells": [
  {
   "cell_type": "markdown",
   "metadata": {
    "id": "ivIsE1kHLLQa"
   },
   "source": [
    "# <font style=\"color:rgb(0,91,150)\">Como funciona o OpenCV</font>\n",
    "\n",
    "\n",
    "Neste módulo vamos abordar alguns conceitos básicos e muito importantes para manipulação de imagens, utilizando a biblioteca OpenCV. No entanto, vamos antes dar uma olhada em como funcionada a sua arquitetura.\n",
    "\n",
    "<h2 style=\"color:rgb(0,91,150)\">Introdução ao OpenCV</h2>\n",
    "\n",
    "OpenCV é uma biblioteca de programação em C++ com capacidades em tempo real. Como é escrita em C/C++ otimizado, a biblioteca pode se beneficiar do processamento multi-core. Uma introdução teórica sobre a biblioteca OpenCV é realizada na próxima seção.\n",
    "\n",
    "A biblioteca OpenCV é popular por várias razões, incluindo:\n",
    "\n",
    "- É uma biblioteca de visão computacional de código aberto\n",
    "- É uma biblioteca específica para processamento de imagens\n",
    "- Possui mais de 2.500 algoritmos otimizados, incluindo algoritmos de visão computacional de última geração\n",
    "- Suporte para aprendizado de máquina e aprendizado profundo\n",
    "- Possui interfaces para C++, Python, Java e MATLAB\n",
    "- A biblioteca suporta Windows, Linux, Android e macOS\n",
    "\n",
    "<h2 style=\"color:rgb(0,91,150)\">Módulos do OpenCV</h2>\n",
    "\n",
    "O OpenCV é dividido em vários módulos. Cada módulo pode ser entendido, em geral, como sendo dedicado a um grupo de problemas de visão computacional. Os principais módulos são brevemente descritos aqui.\n",
    "\n",
    "- `core`: *Funcionalidade principal*. Este módulo define estruturas de dados básicas e também funções básicas usadas por todos os outros módulos na biblioteca.\n",
    "- `imgproc`: *Processamento de imagens*. Um módulo de processamento de imagens que inclui filtragem de imagens, transformações geométricas de imagens, conversão de espaço de cores e histogramas.\n",
    "- `imgcodecs`: *Codecs de imagem*. Leitura e escrita de arquivos de imagem.\n",
    "- `videoio`: *E/S de vídeo*. Uma interface para captura de vídeo e codecs de vídeo.\n",
    "- `highgui`: *GUI de alto nível*. Uma interface para capacidades de interface do usuário. Ele fornece uma interface para fazer facilmente o seguinte:\n",
    "    - Criar e manipular janelas que podem exibir/mostrar imagens\n",
    "    - Adicionar barras de rastreamento às janelas, comandos de teclado e manipular eventos do mouse\n",
    "- `video`: *Análise de vídeo*. Um módulo de análise de vídeo incluindo algoritmos de subtração de fundo, estimativa de movimento e rastreamento de objetos.\n",
    "- `calib3d`: *Calibração de câmera e reconstrução 3D*. Este módulo cobre algoritmos básicos de geometria de múltiplas visões, algoritmos de correspondência estéreo, estimativa de pose de objetos, calibração de uma única câmera e estéreo, e também reconstrução 3D.\n",
    "- `features2d`: *Framework de recursos 2D*. Este módulo inclui detectores de recursos, descritores e correspondentes de descritores.\n",
    "- `objdetect`: *Detecção de objetos*. Detecção de objetos e instâncias de classes pré-definidas (por exemplo, rostos, olhos, pessoas e carros).\n",
    "- `dnn`: *Módulo de rede neural profunda (DNN)*. Este módulo contém o seguinte:\n",
    "    - API para criação de novas camadas\n",
    "    - Conjunto de camadas úteis integradas\n",
    "    - API para construir e modificar redes neurais a partir de camadas\n",
    "    - Funcionalidade para carregar modelos de redes serializadas de diferentes frameworks de aprendizado profundo\n",
    "- `ml`: *Aprendizado de máquina*. A Biblioteca de Aprendizado de Máquina (MLL) é um conjunto de classes e métodos que podem ser usados para fins de classificação, regressão e agrupamento.\n",
    "- `flann`: *Agrupamento e pesquisa em espaços multidimensionais*. Fast Library for Approximate Nearest Neighbors (FLANN) é uma coleção de algoritmos que são altamente adequados para pesquisas rápidas de vizinhos mais próximos.\n",
    "- `photo`: *Fotografia computacional*. Este módulo implementa um pipeline de junção que realiza a junção automática de imagens panorâmicas.\n",
    "- `stitching`: *Junção de imagens*. Este módulo implementa um pipeline de junção que realiza a junção automática de imagens panorâmicas.\n",
    "- `shape`: *Distância e correspondência de formas*. Este módulo pode ser usado para correspondência de formas, recuperação ou comparação.\n",
    "- `superres`: *Super-resolução*. Este módulo contém um conjunto de classes e métodos que podem ser usados para aprimoramento de resolução.\n",
    "- `videostab`: *Estabilização de vídeo*. Este módulo contém um conjunto de classes e métodos para estabilização de vídeo.\n",
    "- `viz`: *Visualizador 3D*. Este módulo é usado para exibir widgets que fornecem vários métodos para interagir com cenas e widgets."
   ]
  },
  {
   "cell_type": "code",
   "execution_count": null,
   "metadata": {
    "id": "WXpN6QIGVg20"
   },
   "outputs": [],
   "source": []
  }
 ],
 "metadata": {
  "colab": {
   "provenance": []
  },
  "kernelspec": {
   "display_name": "Python 3 (ipykernel)",
   "language": "python",
   "name": "python3"
  },
  "language_info": {
   "codemirror_mode": {
    "name": "ipython",
    "version": 3
   },
   "file_extension": ".py",
   "mimetype": "text/x-python",
   "name": "python",
   "nbconvert_exporter": "python",
   "pygments_lexer": "ipython3",
   "version": "3.9.5"
  }
 },
 "nbformat": 4,
 "nbformat_minor": 1
}
